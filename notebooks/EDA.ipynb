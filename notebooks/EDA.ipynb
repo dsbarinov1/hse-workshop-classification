{
 "cells": [
  {
   "cell_type": "code",
   "execution_count": null,
   "metadata": {},
   "outputs": [
    {
     "ename": "",
     "evalue": "",
     "output_type": "error",
     "traceback": [
      "\u001b[1;31mДля выполнения ячеек с \"Python 3.9.13 64-bit\" требуется пакет ipykernel.\n",
      "\u001b[1;31mВыполните следующую команду, чтобы установить \"ipykernel\" в среде Python. \n",
      "\u001b[1;31mКоманда: \"/usr/local/Cellar/python@3.9/3.9.13_1/Frameworks/Python.framework/Versions/3.9/bin/python3.9 -m pip install ipykernel -U --user --force-reinstall\""
     ]
    }
   ],
   "source": [
    "import pandas as pd\n",
    "import numpy as np\n",
    "import seaborn as sns\n",
    "from matplotlib import pyplot as plt\n",
    "import os\n",
    "from IPython.core.display import display, HTML\n",
    "import pickle"
   ]
  },
  {
   "cell_type": "markdown",
   "metadata": {},
   "source": [
    "## Описание лабораторной"
   ]
  },
  {
   "cell_type": "markdown",
   "metadata": {},
   "source": [
    "# Лабораторная № 1 по курсу \"Анализ и разработка данных\".\n",
    "\n",
    "Задание - нужно построить модель классификации, используя [шаблон cooke cutter для Data Science](https://drivendata.github.io/cookiecutter-data-science/) и [DVC](https://dvc.org) для трекинга экспериментов.\n",
    "\n",
    "## Описание данных\n",
    "\n",
    "Данные взяты из чемпионата [Цифровой прорыв](https://hacks-ai.ru/championships/758240). На сайте представлены лучшие решения чемпионата, можете с ними ознакомиться, чтобы подчерпнуть идеи.\n",
    "\n",
    "> Более 80% смертельных исходов в Российской Федерации связано с заболеваниями Сердечно-сосудистой системы. Клинические методы диагностики не позволяют определять предикторы этих проблем без посещения медицинской организации и взятия анализов. В этой связи особую актуальность приобретает разработка интеллектуальной системы прогнозирования риска развития заболеваний с использованием исторических данных, позволяющей оценить риски критических нарушений в условиях повседневной жизни, без визита к врачу.\n",
    ">\n",
    "> Распространенность болезней системы кровообращения преимущественно зависит от причин, главным образом, связанных с особенностями образа жизни, профилактическое воздействие на который может замедлить развитие заболеваний как до, так и после появления клинических симптомов. К настоящему времени выделяют более 300 факторов риска, однако, в первую очередь, сегодня используют семь факторов, вносящих основной̆ вклад в преждевременную смертность: артериальная гипертензия, гиперхолестеринемия, курение, недостаточное потребление фруктов и овощей, избыточная масса тела, избыточное потребление алкоголя, гиподинамия. Это так называемые, традиционные факторы. Если же традиционным факторам уделяется огромное внимание, то нетрадиционным посвящены всего лишь отдельные исследования.\n",
    ">\n",
    "> Участникам чемпионата будет предложено проанализировать, как традиционные, так и нетрадиционные факторы риска и построить прогнозную модель развития сердечно-сосудистого заболевания пациента.\n",
    "\n",
    "Мы немного разбирали сами данные на практике. Видео можно посмотреть [тут](https://eduhseru.sharepoint.com/:v:/s/AdvancedDataAnalysis2022/EZw_TeFlH5tGgiDp_LO-8JkByc1kg24mZVN9Y4c42MRuPQ?e=f7aCbE) (для доступа нужен аккаунт ВШЭ).\n",
    "\n",
    "## Требования к реализации\n",
    "\n",
    "* Нужно выбрать метрику качества и обосновать ее выбор (1 балл).\n",
    "\n",
    "* Нужно написать стадии для полного цикла жизни ML модели (4 баллов)\n",
    "    1. **Препроцессинг.**\n",
    "    1. **Разделение данных train/val**\n",
    "    1. **Генерация признаков.** Обратите внимание, что если вы генерируете признаки, которые предполагают обучение на тренировочном датасете (fit), то для валидационного вы должны применять уже обученные трансормации (transform). Так, если бы данные из val к вам пришли из будущего и у вас нет для них правильных ответов. **Данные из val вы никак не используете в обучении/тюнинге параметров/и т.д., только для оценки качества.** Представьте, что данных val у Вас на момент создания модели нет, они придут к вам только в будущем.\n",
    "    1. **Обучение модели.**\n",
    "        * Здесь вы можете использовать внутри различные методы оценки качества модели train/test split, k-fold validation и т.д. [Многие из них уже реализованы в scikit-learn](https://scikit-learn.org/stable/modules/classes.html#module-sklearn.model_selection). Вы их используете \"для себя\" чтобы решить какую модель/ модели вы отправите дальше работать с \"реальным миром\".\n",
    "        * Нужно имплементировать\n",
    "            1. Что-то из scikit-learn используя [Scikit-Learn Pipelines...](https://scikit-learn.org/stable/modules/classes.html#module-sklearn.pipeline)\n",
    "            1. [Catboost](https://catboost.ai)\n",
    "            1. Если захочется, то что-то еще. Больше - можно, меньше - нет.\n",
    "    1. **Оценка модели** по метрике качества, выбранном в первом пункте на val датасете и [сохранение метрик / графиков](https://dvc.org/doc/start/data-management/metrics-parameters-plots).\n",
    "    1. **Предсказание (инференс) модели на новых данных.**\n",
    "    \n",
    "* Из стейджей выше соберите **один или два пайплайна** (1 балл):\n",
    "    1. Обучения модели и ее оценки\n",
    "    1. Инференса модели\n",
    "\n",
    "* В пайплайнах используется работа с категориальными признаками (2 балла):\n",
    "    * [CategoricalEncoders](https://contrib.scikit-learn.org/category_encoders/targetencoder.html)\n",
    "    * [Тюнинг параметров отвечающих за работу с категориями Catboost](https://github.com/catboost/tutorials/blob/master/categorical_features/categorical_features_parameters.ipynb)\n",
    "* Для [управления данными](https://dvc.org/doc/start/data-management) и [экспериментами](https://dvc.org/doc/start/experiment-management/experiments) использован DVC (2 балла).\n",
    "\n",
    "Код должен быть написан в функциях и разнесен по модулям шаблона. Если вы изменяете шаблон - напишите об этом комментарий, какая мотивация.\n",
    "Вы можете использовать ноутбук для разработки, но нужно писать код так, чтобы это потом было легко перенести в функции и разнести по модулям проекта. Пример такой работы мы разбирали на [практике](https://eduhseru.sharepoint.com/:v:/s/AdvancedDataAnalysis2022/EZw_TeFlH5tGgiDp_LO-8JkByc1kg24mZVN9Y4c42MRuPQ?e=f7aCbE).\n",
    "\n",
    "## Deadlines\n",
    "* **Soft deadline 16.10.2022 23:59**\n",
    "* **Hard deadline 23.10.2022 23:59 (штраф 3 балла)**\n",
    "\n",
    "\n",
    "## Куда и что отправлять.\n",
    "1. Выложить весь код и метрики в свой гитхаб\n",
    "1. Прислать на него ссылку письмом на почту ashimko@hse.ru\n",
    "    * Тема письма \"Лаба № 1. *ФИО* Группа *X*. Анализ и разработка данных.  \n",
    "    Где *X* это номер вашей группы в соответствии с ведомостью.  \n",
    "    *ФИО* ваши фамилия, имя, отчество.\n",
    "\n",
    "**Если меняете код после soft deadline'а - штраф 3 балла, если меняете после hard deadline'а - то на усмотрение преподавателя, вплоть до 10 баллов.**\n",
    "\n",
    "Вопросы задавайте в общей группе telegram.  \n",
    "Удачи!"
   ]
  },
  {
   "cell_type": "markdown",
   "metadata": {},
   "source": [
    "# EDA"
   ]
  },
  {
   "cell_type": "code",
   "execution_count": null,
   "metadata": {},
   "outputs": [
    {
     "ename": "",
     "evalue": "",
     "output_type": "error",
     "traceback": [
      "\u001b[1;31mДля выполнения ячеек с \"Python 3.9.13 64-bit\" требуется пакет ipykernel.\n",
      "\u001b[1;31mВыполните следующую команду, чтобы установить \"ipykernel\" в среде Python. \n",
      "\u001b[1;31mКоманда: \"/usr/local/Cellar/python@3.9/3.9.13_1/Frameworks/Python.framework/Versions/3.9/bin/python3.9 -m pip install ipykernel -U --user --force-reinstall\""
     ]
    }
   ],
   "source": [
    "os.chdir('/Users/admin/workspace/hse-data-analysis-lab1/hse_workshop_classification')\n",
    "train = pd.read_csv('data/raw/train.csv')\n",
    "test = pd.read_csv('data/raw/test.csv')"
   ]
  },
  {
   "cell_type": "code",
   "execution_count": null,
   "metadata": {},
   "outputs": [
    {
     "ename": "",
     "evalue": "",
     "output_type": "error",
     "traceback": [
      "\u001b[1;31mДля выполнения ячеек с \"Python 3.9.13 64-bit\" требуется пакет ipykernel.\n",
      "\u001b[1;31mВыполните следующую команду, чтобы установить \"ipykernel\" в среде Python. \n",
      "\u001b[1;31mКоманда: \"/usr/local/Cellar/python@3.9/3.9.13_1/Frameworks/Python.framework/Versions/3.9/bin/python3.9 -m pip install ipykernel -U --user --force-reinstall\""
     ]
    }
   ],
   "source": [
    "display(HTML(\"<h3>TRAIN DATASET</h3>\"))\n",
    "display(HTML(train.head().to_html()))\n",
    "display(HTML(\"<h3>TEST DATASET</h3>\"))\n",
    "display(HTML(test.head().to_html()))"
   ]
  },
  {
   "cell_type": "markdown",
   "metadata": {},
   "source": [
    "Как мы можем заметить, в столбцах возраст курения, сигарет в день и частота пассивного курения присутствуют пропуски. Избавимся от них следующим образом: Если человек никогда не курил, то возраст курения и сигарет в день приравниваем к нулю. Аналогично с пассивным курением."
   ]
  },
  {
   "cell_type": "code",
   "execution_count": null,
   "metadata": {},
   "outputs": [
    {
     "ename": "",
     "evalue": "",
     "output_type": "error",
     "traceback": [
      "\u001b[1;31mДля выполнения ячеек с \"Python 3.9.13 64-bit\" требуется пакет ipykernel.\n",
      "\u001b[1;31mВыполните следующую команду, чтобы установить \"ipykernel\" в среде Python. \n",
      "\u001b[1;31mКоманда: \"/usr/local/Cellar/python@3.9/3.9.13_1/Frameworks/Python.framework/Versions/3.9/bin/python3.9 -m pip install ipykernel -U --user --force-reinstall\""
     ]
    }
   ],
   "source": [
    "(train['ID'] == train['ID_y']).all()"
   ]
  },
  {
   "cell_type": "markdown",
   "metadata": {},
   "source": [
    "Также заметим, что id == id_y, поэтому мы можем просто отбросить этот столбец"
   ]
  },
  {
   "cell_type": "code",
   "execution_count": null,
   "metadata": {},
   "outputs": [
    {
     "ename": "",
     "evalue": "",
     "output_type": "error",
     "traceback": [
      "\u001b[1;31mДля выполнения ячеек с \"Python 3.9.13 64-bit\" требуется пакет ipykernel.\n",
      "\u001b[1;31mВыполните следующую команду, чтобы установить \"ipykernel\" в среде Python. \n",
      "\u001b[1;31mКоманда: \"/usr/local/Cellar/python@3.9/3.9.13_1/Frameworks/Python.framework/Versions/3.9/bin/python3.9 -m pip install ipykernel -U --user --force-reinstall\""
     ]
    }
   ],
   "source": [
    "def Preprocessing(df: pd.DataFrame) -> pd.DataFrame:\n",
    "    if 'ID_y' in df.columns:\n",
    "        df = df.drop('ID_y', axis=1)\n",
    "    if 'ID' in df.columns:\n",
    "        df = df.set_index('ID')\n",
    "    #Избавляемся от пропусков\n",
    "    df['Возраст курения'] = np.where(df['Статус Курения'] == 'Никогда не курил(а)', 0, df['Возраст курения'])\n",
    "    df['Сигарет в день'] = np.where(df['Статус Курения'] == 'Никогда не курил(а)', 0, df['Сигарет в день'])\n",
    "    df['Сигарет в день'] = np.where(df['Сигарет в день'].isna(), 0, df['Сигарет в день'])\n",
    "    df['Частота пасс кур'] = np.where(df['Пассивное курение'] == 0, 'Ни разу в день', df['Частота пасс кур'])\n",
    "    df['Возраст алког'] = np.where(df['Алкоголь'] == 'никогда не употреблял', 0, df['Возраст алког'])\n",
    "\n",
    "    df = df.drop(df[df['Возраст алког'].isna()].index)\n",
    "    df = df.drop(df[df['Пол'].isna()].index)\n",
    "    df = df.drop(df[df['Частота пасс кур'].isna()].index)\n",
    "    #', '.join(list(pd.get_dummies(train, drop_first=False)[:5].columns))\n",
    "    #return pd.get_dummies(df, drop_first=False)  # Think about drop_first\n",
    "    return df\n"
   ]
  },
  {
   "cell_type": "code",
   "execution_count": null,
   "metadata": {},
   "outputs": [
    {
     "ename": "",
     "evalue": "",
     "output_type": "error",
     "traceback": [
      "\u001b[1;31mДля выполнения ячеек с \"Python 3.9.13 64-bit\" требуется пакет ipykernel.\n",
      "\u001b[1;31mВыполните следующую команду, чтобы установить \"ipykernel\" в среде Python. \n",
      "\u001b[1;31mКоманда: \"/usr/local/Cellar/python@3.9/3.9.13_1/Frameworks/Python.framework/Versions/3.9/bin/python3.9 -m pip install ipykernel -U --user --force-reinstall\""
     ]
    }
   ],
   "source": [
    "train = Preprocessing(train)\n",
    "test = Preprocessing(test)"
   ]
  },
  {
   "cell_type": "code",
   "execution_count": null,
   "metadata": {},
   "outputs": [
    {
     "ename": "",
     "evalue": "",
     "output_type": "error",
     "traceback": [
      "\u001b[1;31mДля выполнения ячеек с \"Python 3.9.13 64-bit\" требуется пакет ipykernel.\n",
      "\u001b[1;31mВыполните следующую команду, чтобы установить \"ipykernel\" в среде Python. \n",
      "\u001b[1;31mКоманда: \"/usr/local/Cellar/python@3.9/3.9.13_1/Frameworks/Python.framework/Versions/3.9/bin/python3.9 -m pip install ipykernel -U --user --force-reinstall\""
     ]
    }
   ],
   "source": [
    "display(HTML(\"<h3>TRAIN DATASET</h3>\"))\n",
    "display(HTML(train.head().to_html()))\n",
    "display(HTML(\"<h3>TEST DATASET</h3>\"))\n",
    "display(HTML(test.head().to_html()))"
   ]
  },
  {
   "cell_type": "markdown",
   "metadata": {},
   "source": [
    "Мы избавились от всех пропусков. Теперь уберем столбцы, которые мы будем предсказывать"
   ]
  },
  {
   "cell_type": "code",
   "execution_count": null,
   "metadata": {},
   "outputs": [
    {
     "ename": "",
     "evalue": "",
     "output_type": "error",
     "traceback": [
      "\u001b[1;31mДля выполнения ячеек с \"Python 3.9.13 64-bit\" требуется пакет ipykernel.\n",
      "\u001b[1;31mВыполните следующую команду, чтобы установить \"ipykernel\" в среде Python. \n",
      "\u001b[1;31mКоманда: \"/usr/local/Cellar/python@3.9/3.9.13_1/Frameworks/Python.framework/Versions/3.9/bin/python3.9 -m pip install ipykernel -U --user --force-reinstall\""
     ]
    }
   ],
   "source": [
    "clear_train = train.copy()\n",
    "Target_columns = [\n",
    "    'Артериальная гипертензия', 'ОНМК',\n",
    "    'Стенокардия, ИБС, инфаркт миокарда',\n",
    "    'Сердечная недостаточность', \n",
    "    'Прочие заболевания сердца'\n",
    "]\n",
    "target = clear_train[Target_columns]\n",
    "clear_train = clear_train.drop(Target_columns, axis=1)\n",
    "display(HTML(target.head().to_html()))\n",
    "display(HTML(clear_train.head().to_html()))"
   ]
  },
  {
   "cell_type": "markdown",
   "metadata": {},
   "source": [
    "Разделим признаки на несколько списков для удобства"
   ]
  },
  {
   "cell_type": "code",
   "execution_count": null,
   "metadata": {},
   "outputs": [
    {
     "ename": "",
     "evalue": "",
     "output_type": "error",
     "traceback": [
      "\u001b[1;31mДля выполнения ячеек с \"Python 3.9.13 64-bit\" требуется пакет ipykernel.\n",
      "\u001b[1;31mВыполните следующую команду, чтобы установить \"ipykernel\" в среде Python. \n",
      "\u001b[1;31mКоманда: \"/usr/local/Cellar/python@3.9/3.9.13_1/Frameworks/Python.framework/Versions/3.9/bin/python3.9 -m pip install ipykernel -U --user --force-reinstall\""
     ]
    }
   ],
   "source": [
    "clear_train.info()"
   ]
  },
  {
   "cell_type": "code",
   "execution_count": null,
   "metadata": {},
   "outputs": [
    {
     "ename": "",
     "evalue": "",
     "output_type": "error",
     "traceback": [
      "\u001b[1;31mДля выполнения ячеек с \"Python 3.9.13 64-bit\" требуется пакет ipykernel.\n",
      "\u001b[1;31mВыполните следующую команду, чтобы установить \"ipykernel\" в среде Python. \n",
      "\u001b[1;31mКоманда: \"/usr/local/Cellar/python@3.9/3.9.13_1/Frameworks/Python.framework/Versions/3.9/bin/python3.9 -m pip install ipykernel -U --user --force-reinstall\""
     ]
    }
   ],
   "source": [
    "Categorial_columns = [\n",
    "    'Пол', 'Семья', 'Этнос', 'Национальность', 'Религия', 'Образование', \n",
    "    'Профессия', 'Статус Курения', 'Частота пасс кур', 'Алкоголь',\n",
    "    'Время засыпания', 'Время пробуждения'\n",
    "]\n",
    "Ohe_columns = [\n",
    "    'Пол', 'Вы работаете?', 'Выход на пенсию', 'Прекращение работы по болезни', 'Сахарный диабет', 'Гепатит',\n",
    "    'Онкология', 'Хроническое заболевание легких', 'Бронжиальная астма', 'Туберкулез легких ', 'ВИЧ/СПИД',\n",
    "    'Регулярный прим лекарственных средств', 'Травмы за год', 'Переломы','Пассивное курение', 'Сон после обеда', \n",
    "    'Спорт, клубы', 'Религия, клубы'\n",
    "]\n",
    "Real_columns = ['Возраст курения', 'Сигарет в день', 'Возраст алког']\n",
    "\n",
    "Ohe_int_columns = [Ohe_columns[i] for i in range(len(Ohe_columns)) if type(clear_train[Ohe_columns[i]][0]) == np.int64]\n",
    "Ohe_int_columns_test = [Ohe_columns[i] for i in range(len(Ohe_columns)) if type(test[Ohe_columns[i]][0]) == np.int64]"
   ]
  },
  {
   "cell_type": "markdown",
   "metadata": {},
   "source": [
    "Преобразование типов"
   ]
  },
  {
   "cell_type": "code",
   "execution_count": null,
   "metadata": {},
   "outputs": [
    {
     "ename": "",
     "evalue": "",
     "output_type": "error",
     "traceback": [
      "\u001b[1;31mДля выполнения ячеек с \"Python 3.9.13 64-bit\" требуется пакет ipykernel.\n",
      "\u001b[1;31mВыполните следующую команду, чтобы установить \"ipykernel\" в среде Python. \n",
      "\u001b[1;31mКоманда: \"/usr/local/Cellar/python@3.9/3.9.13_1/Frameworks/Python.framework/Versions/3.9/bin/python3.9 -m pip install ipykernel -U --user --force-reinstall\""
     ]
    }
   ],
   "source": [
    "clear_train[Ohe_int_columns] = clear_train[Ohe_int_columns].astype(np.int8)\n",
    "clear_train[Categorial_columns] = clear_train[Categorial_columns].astype('category')\n",
    "clear_train[Real_columns] = clear_train[Real_columns].astype(np.float32)\n",
    "\n",
    "test[Ohe_int_columns] = test[Ohe_int_columns].astype(np.int8)\n",
    "test[Categorial_columns] = test[Categorial_columns].astype('category')\n",
    "test[Real_columns] = test[Real_columns].astype(np.float32)"
   ]
  },
  {
   "cell_type": "code",
   "execution_count": null,
   "metadata": {},
   "outputs": [
    {
     "ename": "",
     "evalue": "",
     "output_type": "error",
     "traceback": [
      "\u001b[1;31mДля выполнения ячеек с \"Python 3.9.13 64-bit\" требуется пакет ipykernel.\n",
      "\u001b[1;31mВыполните следующую команду, чтобы установить \"ipykernel\" в среде Python. \n",
      "\u001b[1;31mКоманда: \"/usr/local/Cellar/python@3.9/3.9.13_1/Frameworks/Python.framework/Versions/3.9/bin/python3.9 -m pip install ipykernel -U --user --force-reinstall\""
     ]
    }
   ],
   "source": [
    "clear_train.info()"
   ]
  },
  {
   "cell_type": "code",
   "execution_count": null,
   "metadata": {},
   "outputs": [
    {
     "ename": "",
     "evalue": "",
     "output_type": "error",
     "traceback": [
      "\u001b[1;31mДля выполнения ячеек с \"Python 3.9.13 64-bit\" требуется пакет ipykernel.\n",
      "\u001b[1;31mВыполните следующую команду, чтобы установить \"ipykernel\" в среде Python. \n",
      "\u001b[1;31mКоманда: \"/usr/local/Cellar/python@3.9/3.9.13_1/Frameworks/Python.framework/Versions/3.9/bin/python3.9 -m pip install ipykernel -U --user --force-reinstall\""
     ]
    }
   ],
   "source": [
    "clear_train[Real_columns]"
   ]
  },
  {
   "cell_type": "code",
   "execution_count": null,
   "metadata": {},
   "outputs": [
    {
     "ename": "",
     "evalue": "",
     "output_type": "error",
     "traceback": [
      "\u001b[1;31mДля выполнения ячеек с \"Python 3.9.13 64-bit\" требуется пакет ipykernel.\n",
      "\u001b[1;31mВыполните следующую команду, чтобы установить \"ipykernel\" в среде Python. \n",
      "\u001b[1;31mКоманда: \"/usr/local/Cellar/python@3.9/3.9.13_1/Frameworks/Python.framework/Versions/3.9/bin/python3.9 -m pip install ipykernel -U --user --force-reinstall\""
     ]
    }
   ],
   "source": [
    "clear_train.to_pickle(path='data/processed/train.pkl')\n",
    "test.to_pickle(path='data/processed/test.pkl')\n",
    "target.to_pickle(path='data/processed/target.pkl')"
   ]
  },
  {
   "cell_type": "markdown",
   "metadata": {},
   "source": [
    "## Modeling"
   ]
  },
  {
   "cell_type": "markdown",
   "metadata": {},
   "source": [
    "Будем использовать метрику recall, потому что нам необходимо жестко контролировать количество тех больных, которые попали в группу здоровых. Так как recall = $\\frac{True\\ positive}{True\\ positive+False\\ negative}$, то эта метрика хорошо отражает необходимое нам отношение"
   ]
  },
  {
   "cell_type": "markdown",
   "metadata": {},
   "source": [
    "## RidgeClassifier from sklearn"
   ]
  },
  {
   "cell_type": "code",
   "execution_count": null,
   "metadata": {},
   "outputs": [
    {
     "ename": "",
     "evalue": "",
     "output_type": "error",
     "traceback": [
      "\u001b[1;31mДля выполнения ячеек с \"Python 3.9.13 64-bit\" требуется пакет ipykernel.\n",
      "\u001b[1;31mВыполните следующую команду, чтобы установить \"ipykernel\" в среде Python. \n",
      "\u001b[1;31mКоманда: \"/usr/local/Cellar/python@3.9/3.9.13_1/Frameworks/Python.framework/Versions/3.9/bin/python3.9 -m pip install ipykernel -U --user --force-reinstall\""
     ]
    }
   ],
   "source": [
    "os.chdir('/Users/admin/workspace/hse-data-analysis-lab1/hse_workshop_classification')"
   ]
  },
  {
   "cell_type": "code",
   "execution_count": null,
   "metadata": {},
   "outputs": [
    {
     "ename": "",
     "evalue": "",
     "output_type": "error",
     "traceback": [
      "\u001b[1;31mДля выполнения ячеек с \"Python 3.9.13 64-bit\" требуется пакет ipykernel.\n",
      "\u001b[1;31mВыполните следующую команду, чтобы установить \"ipykernel\" в среде Python. \n",
      "\u001b[1;31mКоманда: \"/usr/local/Cellar/python@3.9/3.9.13_1/Frameworks/Python.framework/Versions/3.9/bin/python3.9 -m pip install ipykernel -U --user --force-reinstall\""
     ]
    }
   ],
   "source": [
    "import sklearn\n",
    "from sklearn.datasets import fetch_20newsgroups\n",
    "from sklearn.model_selection import *\n",
    "from sklearn.metrics import *\n",
    "from sklearn.svm import *\n",
    "from sklearn.model_selection import *\n",
    "from sklearn.preprocessing import LabelEncoder\n",
    "from sklearn.linear_model import RidgeClassifier\n",
    "from sklearn.model_selection import StratifiedKFold, GridSearchCV\n",
    "from sklearn.linear_model import LogisticRegression\n",
    "from sklearn.multioutput import MultiOutputClassifier\n",
    "from sklearn.ensemble import ExtraTreesClassifier\n",
    "from sklearn.pipeline import *\n",
    "from src.features import features\n",
    "\n",
    "import src.config as cfg\n",
    "from src import utils\n",
    "\n",
    "RS = 1807\n",
    "\n",
    "train = pd.read_pickle('data/processed/train.pkl')\n",
    "\n",
    "train[cfg.CAT_COLS] = train[cfg.CAT_COLS].astype('object')\n",
    "\n",
    "train = features.add_early_wakeup(train)\n",
    "encod = LabelEncoder()\n",
    "for i in cfg.OHE_COLS:\n",
    "        train[i] = encod.fit_transform(train[i])\n",
    "for i in cfg.REAL_COLS:\n",
    "        train[i] = encod.fit_transform(train[i])\n",
    "for i in cfg.CAT_COLS:\n",
    "        train[i] = encod.fit_transform(train[i])\n",
    "        \n",
    "test[cfg.CAT_COLS] = test[cfg.CAT_COLS].astype('object')\n",
    "\n",
    "test = features.add_early_wakeup(test)\n",
    "encod = LabelEncoder()\n",
    "for i in cfg.OHE_COLS:\n",
    "        test[i] = encod.fit_transform(test[i])\n",
    "for i in cfg.REAL_COLS:\n",
    "        test[i] = encod.fit_transform(test[i])\n",
    "for i in cfg.CAT_COLS:\n",
    "        test[i] = encod.fit_transform(test[i])\n",
    "\n",
    "train_x, val_x, train_y, val_y = train_test_split(train, target, test_size=0.2, shuffle=True, random_state=RS, stratify=target.iloc[:,[1, 2, 3, 4]].sum(axis=1))\n",
    "\n",
    "train_x\n"
   ]
  },
  {
   "cell_type": "code",
   "execution_count": null,
   "metadata": {},
   "outputs": [
    {
     "ename": "",
     "evalue": "",
     "output_type": "error",
     "traceback": [
      "\u001b[1;31mДля выполнения ячеек с \"Python 3.9.13 64-bit\" требуется пакет ipykernel.\n",
      "\u001b[1;31mВыполните следующую команду, чтобы установить \"ipykernel\" в среде Python. \n",
      "\u001b[1;31mКоманда: \"/usr/local/Cellar/python@3.9/3.9.13_1/Frameworks/Python.framework/Versions/3.9/bin/python3.9 -m pip install ipykernel -U --user --force-reinstall\""
     ]
    }
   ],
   "source": [
    "ridge_class = RidgeClassifier()\n",
    "ridge_class.fit(train_x, train_y)\n",
    "predicted_rc = ridge_class.predict(val_x)\n",
    "\n",
    "print(f\"recall micro  {recall_score(val_y, predicted_rc, average='micro', zero_division=0)}\\n\",\n",
    "      f\"recall samples {recall_score(val_y, predicted_rc, average='samples', zero_division=0)}\\n\"\n",
    "      f\"accuracy {accuracy_score(val_y, predicted_rc)}\\n\",\n",
    "      f\"roc auc {roc_auc_score(val_y, predicted_rc)}\"\n",
    "     )\n",
    "\n",
    "print(classification_report(val_y, predicted_rc))"
   ]
  },
  {
   "cell_type": "code",
   "execution_count": null,
   "metadata": {},
   "outputs": [
    {
     "ename": "",
     "evalue": "",
     "output_type": "error",
     "traceback": [
      "\u001b[1;31mДля выполнения ячеек с \"Python 3.9.13 64-bit\" требуется пакет ipykernel.\n",
      "\u001b[1;31mВыполните следующую команду, чтобы установить \"ipykernel\" в среде Python. \n",
      "\u001b[1;31mКоманда: \"/usr/local/Cellar/python@3.9/3.9.13_1/Frameworks/Python.framework/Versions/3.9/bin/python3.9 -m pip install ipykernel -U --user --force-reinstall\""
     ]
    }
   ],
   "source": [
    "def draw_coverage(y_true: np.ndarray, y_pred: np.ndarray) -> None:\n",
    "    dist = pd.DataFrame([val_y.values.sum(axis=0), y_pred.sum(axis=0)], index=['true', 'pred'], columns=target.columns).T\n",
    "    for col in ['true', 'pred']:\n",
    "        plt.bar(x=target.columns, height=dist[col],  alpha=0.5, label=col)\n",
    "    plt.legend()\n",
    "    plt.suptitle('Кол-во положительных в истинных и предсказанных\\nв зависимости от заболевания')\n",
    "    plt.xticks(size=10, rotation=30, ha='right')\n",
    "    plt.ylabel('Кол-во положительных')\n",
    "    plt.show()\n",
    "\n",
    "draw_coverage(val_y.to_numpy(), predicted_rc)"
   ]
  },
  {
   "cell_type": "markdown",
   "metadata": {},
   "source": [
    "Как мы видим, модель работает не самым лучшим образом. Recall более 47% по всей выборке и около 28% по каждому классу в отдельности"
   ]
  },
  {
   "cell_type": "markdown",
   "metadata": {},
   "source": [
    "## CatBoost"
   ]
  },
  {
   "cell_type": "code",
   "execution_count": null,
   "metadata": {},
   "outputs": [
    {
     "ename": "",
     "evalue": "",
     "output_type": "error",
     "traceback": [
      "\u001b[1;31mДля выполнения ячеек с \"Python 3.9.13 64-bit\" требуется пакет ipykernel.\n",
      "\u001b[1;31mВыполните следующую команду, чтобы установить \"ipykernel\" в среде Python. \n",
      "\u001b[1;31mКоманда: \"/usr/local/Cellar/python@3.9/3.9.13_1/Frameworks/Python.framework/Versions/3.9/bin/python3.9 -m pip install ipykernel -U --user --force-reinstall\""
     ]
    }
   ],
   "source": [
    "from catboost import Pool, CatBoostClassifier\n",
    "\n",
    "\n",
    "catboost_model = CatBoostClassifier(iterations=100, loss_function='MultiLogloss', \n",
    "                                    eval_metric='MultiLogloss', learning_rate=0.05, \n",
    "                                    bootstrap_type='Bayesian', boost_from_average=False, \n",
    "                                    leaf_estimation_iterations=1, leaf_estimation_method='Gradient')\n",
    "catboost_model.fit(train_x, train_y)\n",
    "\n",
    "predicted_cb = catboost_model.predict(val_x)"
   ]
  },
  {
   "cell_type": "code",
   "execution_count": null,
   "metadata": {},
   "outputs": [
    {
     "ename": "",
     "evalue": "",
     "output_type": "error",
     "traceback": [
      "\u001b[1;31mДля выполнения ячеек с \"Python 3.9.13 64-bit\" требуется пакет ipykernel.\n",
      "\u001b[1;31mВыполните следующую команду, чтобы установить \"ipykernel\" в среде Python. \n",
      "\u001b[1;31mКоманда: \"/usr/local/Cellar/python@3.9/3.9.13_1/Frameworks/Python.framework/Versions/3.9/bin/python3.9 -m pip install ipykernel -U --user --force-reinstall\""
     ]
    }
   ],
   "source": [
    "feature_importance = catboost_model.feature_importances_\n",
    "sorted_idx = np.argsort(feature_importance)\n",
    "fig = plt.figure(figsize=(12, 6))\n",
    "plt.barh(range(len(sorted_idx)), feature_importance[sorted_idx], align='center')\n",
    "plt.yticks(range(len(sorted_idx)), np.array(val_x.columns)[sorted_idx])\n",
    "plt.title('Feature Importance')\n",
    "plt.show()"
   ]
  },
  {
   "cell_type": "code",
   "execution_count": null,
   "metadata": {},
   "outputs": [
    {
     "ename": "",
     "evalue": "",
     "output_type": "error",
     "traceback": [
      "\u001b[1;31mДля выполнения ячеек с \"Python 3.9.13 64-bit\" требуется пакет ipykernel.\n",
      "\u001b[1;31mВыполните следующую команду, чтобы установить \"ipykernel\" в среде Python. \n",
      "\u001b[1;31mКоманда: \"/usr/local/Cellar/python@3.9/3.9.13_1/Frameworks/Python.framework/Versions/3.9/bin/python3.9 -m pip install ipykernel -U --user --force-reinstall\""
     ]
    }
   ],
   "source": [
    "print(f\"Recall micro {recall_score(val_y, predicted_cb, average='micro', zero_division=0)}\\n\",\n",
    "    f\"Recall samples {recall_score(val_y, predicted_cb, average='samples', zero_division=0)}\\n\",\n",
    "    f\"Accuracy {accuracy_score(val_y, predicted_cb)}\\n\",\n",
    "    f\"roc auc {roc_auc_score(val_y, predicted_cb)}\"\n",
    "    )\n",
    "\n",
    "print(classification_report(val_y, predicted_cb))"
   ]
  },
  {
   "cell_type": "code",
   "execution_count": null,
   "metadata": {},
   "outputs": [
    {
     "ename": "",
     "evalue": "",
     "output_type": "error",
     "traceback": [
      "\u001b[1;31mДля выполнения ячеек с \"Python 3.9.13 64-bit\" требуется пакет ipykernel.\n",
      "\u001b[1;31mВыполните следующую команду, чтобы установить \"ipykernel\" в среде Python. \n",
      "\u001b[1;31mКоманда: \"/usr/local/Cellar/python@3.9/3.9.13_1/Frameworks/Python.framework/Versions/3.9/bin/python3.9 -m pip install ipykernel -U --user --force-reinstall\""
     ]
    }
   ],
   "source": [
    "clf = CatBoostClassifier(\n",
    "    loss_function='MultiLogloss',\n",
    "    # custom_metric=['Recall', 'F1'],\n",
    "    # eval_metric='F:beta=2',\n",
    "    iterations=2000,\n",
    "    silent=True,\n",
    "    depth=6,\n",
    "    l2_leaf_reg=2.0,\n",
    "    learning_rate=0.001,\n",
    "    early_stopping_rounds=100,\n",
    "    random_seed=5\n",
    ")\n",
    "\n",
    "clf.fit(train_x, train_y)\n",
    "predicted_clf = clf.predict(val_x)\n",
    "\n",
    "print(f\"Recall micro {recall_score(val_y, predicted_clf, average='micro', zero_division=0)}\\n\",\n",
    "    f\"Recall samples {recall_score(val_y, predicted_clf, average='samples', zero_division=0)}\\n\",\n",
    "    f\"Accuracy {accuracy_score(val_y, predicted_clf)}\\n\",\n",
    "    f\"roc auc {roc_auc_score(val_y, predicted_clf)}\"\n",
    "    )\n",
    "\n",
    "print(classification_report(val_y, predicted_clf))"
   ]
  },
  {
   "cell_type": "code",
   "execution_count": null,
   "metadata": {},
   "outputs": [
    {
     "ename": "",
     "evalue": "",
     "output_type": "error",
     "traceback": [
      "\u001b[1;31mДля выполнения ячеек с \"Python 3.9.13 64-bit\" требуется пакет ipykernel.\n",
      "\u001b[1;31mВыполните следующую команду, чтобы установить \"ipykernel\" в среде Python. \n",
      "\u001b[1;31mКоманда: \"/usr/local/Cellar/python@3.9/3.9.13_1/Frameworks/Python.framework/Versions/3.9/bin/python3.9 -m pip install ipykernel -U --user --force-reinstall\""
     ]
    }
   ],
   "source": [
    "feature_importance = clf.feature_importances_\n",
    "sorted_idx = np.argsort(feature_importance)\n",
    "fig = plt.figure(figsize=(12, 6))\n",
    "plt.barh(range(len(sorted_idx)), feature_importance[sorted_idx], align='center')\n",
    "plt.yticks(range(len(sorted_idx)), np.array(val_x.columns)[sorted_idx])\n",
    "plt.title('Feature Importance')\n",
    "plt.show()"
   ]
  },
  {
   "cell_type": "markdown",
   "metadata": {},
   "source": [
    "Как мы видим, у обеих моделей rocauc больше 0.5, следовательно модели выдают не случайные числа"
   ]
  },
  {
   "cell_type": "code",
   "execution_count": null,
   "metadata": {},
   "outputs": [
    {
     "ename": "",
     "evalue": "",
     "output_type": "error",
     "traceback": [
      "\u001b[1;31mДля выполнения ячеек с \"Python 3.9.13 64-bit\" требуется пакет ipykernel.\n",
      "\u001b[1;31mВыполните следующую команду, чтобы установить \"ipykernel\" в среде Python. \n",
      "\u001b[1;31mКоманда: \"/usr/local/Cellar/python@3.9/3.9.13_1/Frameworks/Python.framework/Versions/3.9/bin/python3.9 -m pip install ipykernel -U --user --force-reinstall\""
     ]
    }
   ],
   "source": [
    "train_x.head()"
   ]
  },
  {
   "cell_type": "code",
   "execution_count": null,
   "metadata": {},
   "outputs": [
    {
     "ename": "",
     "evalue": "",
     "output_type": "error",
     "traceback": [
      "\u001b[1;31mДля выполнения ячеек с \"Python 3.9.13 64-bit\" требуется пакет ipykernel.\n",
      "\u001b[1;31mВыполните следующую команду, чтобы установить \"ipykernel\" в среде Python. \n",
      "\u001b[1;31mКоманда: \"/usr/local/Cellar/python@3.9/3.9.13_1/Frameworks/Python.framework/Versions/3.9/bin/python3.9 -m pip install ipykernel -U --user --force-reinstall\""
     ]
    }
   ],
   "source": [
    "train_y.head()"
   ]
  },
  {
   "cell_type": "code",
   "execution_count": null,
   "metadata": {},
   "outputs": [
    {
     "ename": "",
     "evalue": "",
     "output_type": "error",
     "traceback": [
      "\u001b[1;31mДля выполнения ячеек с \"Python 3.9.13 64-bit\" требуется пакет ipykernel.\n",
      "\u001b[1;31mВыполните следующую команду, чтобы установить \"ipykernel\" в среде Python. \n",
      "\u001b[1;31mКоманда: \"/usr/local/Cellar/python@3.9/3.9.13_1/Frameworks/Python.framework/Versions/3.9/bin/python3.9 -m pip install ipykernel -U --user --force-reinstall\""
     ]
    }
   ],
   "source": [
    "val_x.head()"
   ]
  },
  {
   "cell_type": "code",
   "execution_count": null,
   "metadata": {},
   "outputs": [
    {
     "ename": "",
     "evalue": "",
     "output_type": "error",
     "traceback": [
      "\u001b[1;31mДля выполнения ячеек с \"Python 3.9.13 64-bit\" требуется пакет ipykernel.\n",
      "\u001b[1;31mВыполните следующую команду, чтобы установить \"ipykernel\" в среде Python. \n",
      "\u001b[1;31mКоманда: \"/usr/local/Cellar/python@3.9/3.9.13_1/Frameworks/Python.framework/Versions/3.9/bin/python3.9 -m pip install ipykernel -U --user --force-reinstall\""
     ]
    }
   ],
   "source": [
    "val_y.head()"
   ]
  },
  {
   "cell_type": "markdown",
   "metadata": {},
   "source": [
    "Завернем обучение моделей в пайплайн и протестируем на recall scores"
   ]
  },
  {
   "cell_type": "code",
   "execution_count": null,
   "metadata": {},
   "outputs": [
    {
     "ename": "",
     "evalue": "",
     "output_type": "error",
     "traceback": [
      "\u001b[1;31mДля выполнения ячеек с \"Python 3.9.13 64-bit\" требуется пакет ipykernel.\n",
      "\u001b[1;31mВыполните следующую команду, чтобы установить \"ipykernel\" в среде Python. \n",
      "\u001b[1;31mКоманда: \"/usr/local/Cellar/python@3.9/3.9.13_1/Frameworks/Python.framework/Versions/3.9/bin/python3.9 -m pip install ipykernel -U --user --force-reinstall\""
     ]
    }
   ],
   "source": [
    "import category_encoders as ce\n",
    "from sklearn.compose import *\n",
    "from sklearn.impute import *\n",
    "from sklearn.multioutput import *\n",
    "from sklearn.preprocessing import *\n",
    "\n",
    "real_pipe = Pipeline([\n",
    "        ('imputer', SimpleImputer()),\n",
    "        ('scaler', StandardScaler())\n",
    "    ]\n",
    "    )\n",
    "cat_pipe = Pipeline([\n",
    "    ('imputer', SimpleImputer(strategy='constant')),\n",
    "    ('ohe', OneHotEncoder(handle_unknown='ignore', sparse=False))\n",
    "])\n",
    "preprocess_pipe = ColumnTransformer(transformers=[\n",
    "    ('real_cols', real_pipe, cfg.REAL_COLS),\n",
    "    ('cat_cols', cat_pipe, cfg.CAT_COLS),\n",
    "    ('woe_cat_cols', ce.WOEEncoder(), cfg.CAT_COLS),\n",
    "    ('ohe_cols', 'passthrough', cfg.OHE_COLS)\n",
    "]\n",
    ")\n",
    "\n",
    "\n",
    "def pipelining(metric:str):\n",
    "    ridge_classifier = RidgeClassifier()\n",
    "    ridge_pipe = Pipeline([\n",
    "        ('preprocess', preprocess_pipe),\n",
    "        ('model', ridge_classifier)\n",
    "    ]\n",
    "    )\n",
    "    catboost_classifier = CatBoostClassifier(iterations=1000, loss_function='MultiLogloss', \n",
    "                                            eval_metric='MultiLogloss', learning_rate=0.03, \n",
    "                                            bootstrap_type='Bayesian', boost_from_average=False, \n",
    "                                            leaf_estimation_iterations=1, leaf_estimation_method='Gradient')\n",
    "    catboost_pipe = Pipeline([\n",
    "        ('preprocess', preprocess_pipe),\n",
    "        ('model', catboost_classifier)\n",
    "    ]\n",
    "    )\n",
    "    multiout_model_pipe_ridge = MultiOutputClassifier(ridge_pipe, n_jobs=3)\n",
    "    ridge_scores = cross_val_score(\n",
    "        estimator=multiout_model_pipe_ridge,\n",
    "        X=train_x,\n",
    "        y=train_y,\n",
    "        scoring=metric,\n",
    "        cv=5,\n",
    "        n_jobs=1\n",
    "    )\n",
    "    multiout_model_pipe_catboost = MultiOutputClassifier(catboost_pipe, n_jobs=3)\n",
    "    catboost_scores = cross_val_score(\n",
    "        estimator=multiout_model_pipe_catboost,\n",
    "        X=train_x,\n",
    "        y=train_y,\n",
    "        scoring=metric,\n",
    "        cv=5,\n",
    "        n_jobs=1\n",
    "    )\n",
    "    \n",
    "    # Model inference\n",
    "    ridge_classifier.fit(train_x, train_y)\n",
    "    ridge_classifier_predict = ridge_classifier.predict(test)\n",
    "    \n",
    "    catboost_classifier.fit(train_x, train_y)\n",
    "    catboost_classifier_predict = catboost_classifier.predict(test)\n",
    "    \n",
    "    return ridge_scores, catboost_scores, ridge_classifier_predict, catboost_classifier_predict\n",
    "\n",
    "for metric in ['recall_samples', 'recall_micro']:\n",
    "    ridge_scores, catboost_scores, ridge_classifier_predict, catboost_classifier_predict = pipelining(metric)\n",
    "    print(f'RidgeClassifier {metric} scores are {ridge_scores}\\nCatBoost classifier {metric} scores are {catboost_scores}\\n\\n')\n",
    "    \n",
    "print(ridge_classifier_predict)\n",
    "print(catboost_classifier_predict)"
   ]
  },
  {
   "cell_type": "markdown",
   "metadata": {},
   "source": [
    "Как мы видим, средний recall scores у Ridge Classifier = 0.39, средний recall scores у CatBoost classifier = 0.39."
   ]
  },
  {
   "cell_type": "code",
   "execution_count": null,
   "metadata": {},
   "outputs": [
    {
     "ename": "",
     "evalue": "",
     "output_type": "error",
     "traceback": [
      "\u001b[1;31mДля выполнения ячеек с \"Python 3.9.13 64-bit\" требуется пакет ipykernel.\n",
      "\u001b[1;31mВыполните следующую команду, чтобы установить \"ipykernel\" в среде Python. \n",
      "\u001b[1;31mКоманда: \"/usr/local/Cellar/python@3.9/3.9.13_1/Frameworks/Python.framework/Versions/3.9/bin/python3.9 -m pip install ipykernel -U --user --force-reinstall\""
     ]
    }
   ],
   "source": [
    "print(ridge_classifier_predict.shape)\n",
    "print(catboost_classifier_predict.shape)"
   ]
  },
  {
   "cell_type": "code",
   "execution_count": null,
   "metadata": {},
   "outputs": [
    {
     "ename": "",
     "evalue": "",
     "output_type": "error",
     "traceback": [
      "\u001b[1;31mДля выполнения ячеек с \"Python 3.9.13 64-bit\" требуется пакет ipykernel.\n",
      "\u001b[1;31mВыполните следующую команду, чтобы установить \"ipykernel\" в среде Python. \n",
      "\u001b[1;31mКоманда: \"/usr/local/Cellar/python@3.9/3.9.13_1/Frameworks/Python.framework/Versions/3.9/bin/python3.9 -m pip install ipykernel -U --user --force-reinstall\""
     ]
    }
   ],
   "source": [
    "print(catboost_scores)\n",
    "print(ridge_scores)\n",
    "print(catboost_scores.mean())\n",
    "print(ridge_scores.mean())"
   ]
  },
  {
   "cell_type": "code",
   "execution_count": null,
   "metadata": {},
   "outputs": [
    {
     "ename": "",
     "evalue": "",
     "output_type": "error",
     "traceback": [
      "\u001b[1;31mДля выполнения ячеек с \"Python 3.9.13 64-bit\" требуется пакет ipykernel.\n",
      "\u001b[1;31mВыполните следующую команду, чтобы установить \"ipykernel\" в среде Python. \n",
      "\u001b[1;31mКоманда: \"/usr/local/Cellar/python@3.9/3.9.13_1/Frameworks/Python.framework/Versions/3.9/bin/python3.9 -m pip install ipykernel -U --user --force-reinstall\""
     ]
    }
   ],
   "source": [
    "id_list = list(test.transpose())\n",
    "id_list"
   ]
  },
  {
   "cell_type": "code",
   "execution_count": null,
   "metadata": {},
   "outputs": [
    {
     "ename": "",
     "evalue": "",
     "output_type": "error",
     "traceback": [
      "\u001b[1;31mДля выполнения ячеек с \"Python 3.9.13 64-bit\" требуется пакет ipykernel.\n",
      "\u001b[1;31mВыполните следующую команду, чтобы установить \"ipykernel\" в среде Python. \n",
      "\u001b[1;31mКоманда: \"/usr/local/Cellar/python@3.9/3.9.13_1/Frameworks/Python.framework/Versions/3.9/bin/python3.9 -m pip install ipykernel -U --user --force-reinstall\""
     ]
    }
   ],
   "source": [
    "pd.DataFrame(ridge_classifier_predict, id_list).to_csv('/Users/admin/workspace/hse-data-analysis-lab1/hse_workshop_classification/reports/ridge_classifier_prediction.csv')\n",
    "pd.DataFrame(catboost_classifier_predict, id_list).to_csv('/Users/admin/workspace/hse-data-analysis-lab1/hse_workshop_classification/reports/catboost_classifier_prediction.csv')"
   ]
  },
  {
   "cell_type": "markdown",
   "metadata": {},
   "source": []
  }
 ],
 "metadata": {
  "kernelspec": {
   "display_name": "Python 3.9.13 64-bit",
   "language": "python",
   "name": "python3"
  },
  "language_info": {
   "codemirror_mode": {
    "name": "ipython",
    "version": 3
   },
   "file_extension": ".py",
   "mimetype": "text/x-python",
   "name": "python",
   "nbconvert_exporter": "python",
   "pygments_lexer": "ipython3",
   "version": "3.9.13"
  },
  "orig_nbformat": 4,
  "vscode": {
   "interpreter": {
    "hash": "65f51c71e5cc287e1507c0af508bdb91cf93faaf395223bc4fe36d2ad239bc10"
   }
  }
 },
 "nbformat": 4,
 "nbformat_minor": 2
}
